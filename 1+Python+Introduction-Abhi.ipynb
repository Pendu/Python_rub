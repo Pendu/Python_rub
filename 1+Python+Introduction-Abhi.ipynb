{
 "cells": [
  {
   "cell_type": "markdown",
   "metadata": {},
   "source": [
    "# Python Introduction\n"
   ]
  },
  {
   "cell_type": "markdown",
   "metadata": {},
   "source": [
    "\n",
    "\n",
    "The Internet is full of good Python tutorials allowing you to learn Python using whatever media (blog, video, book,  ...) you prefer. A good starting point, however, is the official Python tutorial https://docs.python.org/3/tutorial/index.html.\n",
    "\n",
    "While reading and understanding is one things, coding is more about practicing what you learned conceptionally. For that purpose we created several small exercises that allow you to check whether you are able to use a specific aspect in practice. \n",
    "\n",
    "So have fun, use the web but also ask questions, that's why we are present ;-)!"
   ]
  },
  {
   "cell_type": "markdown",
   "metadata": {},
   "source": [
    "# Datatypes in Python\n",
    "\n",
    "What you should learn: Floats, Integers, Longs, Complex numbers, Bools, Strings "
   ]
  },
  {
   "cell_type": "markdown",
   "metadata": {},
   "source": [
    "## Ints and floats:\n",
    "\n",
    "Calculate the following expression\n",
    "\n",
    "$y = 1-(5*(6-12))+5/7$ (print result and type)"
   ]
  },
  {
   "cell_type": "code",
   "execution_count": 3,
   "metadata": {},
   "outputs": [
    {
     "data": {
      "text/plain": [
       "31.714285714285715"
      ]
     },
     "execution_count": 3,
     "metadata": {},
     "output_type": "execute_result"
    }
   ],
   "source": [
    "\n",
    "import numpy as np\n",
    "\n",
    "y=1-(5*(6-12))+5/7\n",
    "y"
   ]
  },
  {
   "cell_type": "markdown",
   "metadata": {},
   "source": [
    "Check the result manually! If it is incorrect think about what might be the reason and correct the code. \n",
    "If the result is correct what is important point here we have to take care of?"
   ]
  },
  {
   "cell_type": "markdown",
   "metadata": {},
   "source": [
    "## Modulo operation:\n",
    "\n",
    "Calculate the following expression\n",
    "\n",
    "$y = 8674^5\\mod 67$  (print result and type)"
   ]
  },
  {
   "cell_type": "code",
   "execution_count": 4,
   "metadata": {},
   "outputs": [
    {
     "data": {
      "text/plain": [
       "51"
      ]
     },
     "execution_count": 4,
     "metadata": {},
     "output_type": "execute_result"
    }
   ],
   "source": [
    "y=(8674**5)%67\n",
    "y"
   ]
  },
  {
   "cell_type": "markdown",
   "metadata": {},
   "source": [
    "Now calutale $y = (8674\\mod 67)^5\\mod 67$  (print result and type)"
   ]
  },
  {
   "cell_type": "code",
   "execution_count": 5,
   "metadata": {},
   "outputs": [
    {
     "data": {
      "text/plain": [
       "19"
      ]
     },
     "execution_count": 5,
     "metadata": {},
     "output_type": "execute_result"
    }
   ],
   "source": [
    "y=((8674%5)**5)%67\n",
    "y"
   ]
  },
  {
   "cell_type": "markdown",
   "metadata": {},
   "source": [
    "You see, Python has no type binding and does autocast!"
   ]
  },
  {
   "cell_type": "markdown",
   "metadata": {},
   "source": [
    "## Complex numbers:\n",
    "\n",
    "Calculate the following expression\n",
    "\n",
    "$y = ((5+3j) - (7-2j)) * (4+6j)$  (print result and type)"
   ]
  },
  {
   "cell_type": "code",
   "execution_count": 6,
   "metadata": {},
   "outputs": [
    {
     "data": {
      "text/plain": [
       "(-38+8j)"
      ]
     },
     "execution_count": 6,
     "metadata": {},
     "output_type": "execute_result"
    }
   ],
   "source": [
    "\n",
    "import cmath as math\n",
    "y= ((complex(5, 3.0))- (complex(7,-2)))*(complex(4,6))\n",
    "y"
   ]
  },
  {
   "cell_type": "markdown",
   "metadata": {},
   "source": [
    "## Bools:\n",
    "\n",
    "Define two bool variables a and b \n",
    "\n",
    "$a = True,b = False$\n",
    "\n",
    "and calulate \n",
    "\n",
    "$ y = (a \\vee b ) \\wedge (a \\wedge !a)$  (print result and type)\n",
    "\n",
    "where $!a = not\\,a$"
   ]
  },
  {
   "cell_type": "code",
   "execution_count": 7,
   "metadata": {},
   "outputs": [
    {
     "data": {
      "text/plain": [
       "False"
      ]
     },
     "execution_count": 7,
     "metadata": {},
     "output_type": "execute_result"
    }
   ],
   "source": [
    "a= True \n",
    "b= False\n",
    "y= (a or b) and ( a and not a)\n",
    "y"
   ]
  },
  {
   "cell_type": "markdown",
   "metadata": {},
   "source": [
    "now calculate $ y = (a - b ) + (a + (!a))$ (print result and type)"
   ]
  },
  {
   "cell_type": "code",
   "execution_count": 8,
   "metadata": {},
   "outputs": [
    {
     "data": {
      "text/plain": [
       "2"
      ]
     },
     "execution_count": 8,
     "metadata": {},
     "output_type": "execute_result"
    }
   ],
   "source": [
    "y=(a-b)+(a+(not a) )\n",
    "y"
   ]
  },
  {
   "cell_type": "markdown",
   "metadata": {},
   "source": [
    "Since Python does not have explicit type binding it is very easy to mess up your calculations. Keep that in mind!"
   ]
  },
  {
   "cell_type": "markdown",
   "metadata": {},
   "source": [
    "## Strings:\n",
    "\n",
    "Define two string variables\n",
    "\n",
    "$name = Max$ \n",
    "\n",
    "$surname = Mustermann$\n",
    "\n",
    "concatenate them with a whitespace (print result and type)"
   ]
  },
  {
   "cell_type": "code",
   "execution_count": 9,
   "metadata": {},
   "outputs": [
    {
     "data": {
      "text/plain": [
       "'Max  Mustermann'"
      ]
     },
     "execution_count": 9,
     "metadata": {},
     "output_type": "execute_result"
    }
   ],
   "source": [
    "name = 'Max'\n",
    "surname= 'Mustermann'\n",
    "name+'  ' + surname"
   ]
  },
  {
   "cell_type": "markdown",
   "metadata": {},
   "source": [
    "## Bit manipulations:\n",
    "\n",
    "Define the variables\n",
    "\n",
    "$x = 13$,\n",
    "\n",
    "$y = 5$\n",
    "\n",
    "and shift the bits of $x$ by 2 to the right and the bits of $y$ by 1 to the left:"
   ]
  },
  {
   "cell_type": "code",
   "execution_count": null,
   "metadata": {},
   "outputs": [],
   "source": []
  },
  {
   "cell_type": "markdown",
   "metadata": {},
   "source": [
    "More on basic and advanced types\n",
    "\n",
    "https://docs.python.org/3.3/library/stdtypes.html\n",
    "\n",
    "https://docs.python.org/3/library/datatypes.html"
   ]
  },
  {
   "cell_type": "markdown",
   "metadata": {},
   "source": [
    "# Complex datastructures in Python\n",
    "What you should learn: List, Dictionary, Maps, Tuples, Indexing \n",
    "\n",
    "Good overview:\n",
    "\n",
    "https://docs.python.org/3/tutorial/datastructures.html"
   ]
  },
  {
   "cell_type": "markdown",
   "metadata": {},
   "source": [
    "## List:\n",
    "\n",
    "Define the two lists \n",
    "\n",
    "$A = [1,2,3,4,5]$,\n",
    "\n",
    "$B = [10,9,8,7,6]$\n",
    "\n",
    "and concatenate them, store the result in $C$ and print $C$"
   ]
  },
  {
   "cell_type": "code",
   "execution_count": 10,
   "metadata": {},
   "outputs": [
    {
     "data": {
      "text/plain": [
       "[1, 2, 3, 4, 5, 10, 9, 8, 7, 6]"
      ]
     },
     "execution_count": 10,
     "metadata": {},
     "output_type": "execute_result"
    }
   ],
   "source": [
    "A= [1,2,3,4,5]\n",
    "B= [10,9,8,7,6]\n",
    "C=A+B\n",
    "C\n"
   ]
  },
  {
   "cell_type": "markdown",
   "metadata": {},
   "source": [
    "Now extract the sublist $D = [3,4,5,10]$ using indexing"
   ]
  },
  {
   "cell_type": "code",
   "execution_count": 11,
   "metadata": {},
   "outputs": [
    {
     "data": {
      "text/plain": [
       "[3, 4, 5, 10]"
      ]
     },
     "execution_count": 11,
     "metadata": {},
     "output_type": "execute_result"
    }
   ],
   "source": [
    "D= C[2:6]\n",
    "D"
   ]
  },
  {
   "cell_type": "markdown",
   "metadata": {},
   "source": [
    "Insert element '$0$' to list $D$ behind element '$4$'."
   ]
  },
  {
   "cell_type": "code",
   "execution_count": 12,
   "metadata": {},
   "outputs": [
    {
     "data": {
      "text/plain": [
       "[3, 0, 4, 5, 10]"
      ]
     },
     "execution_count": 12,
     "metadata": {},
     "output_type": "execute_result"
    }
   ],
   "source": [
    "D.insert(1, 0)\n",
    "D"
   ]
  },
  {
   "cell_type": "markdown",
   "metadata": {},
   "source": [
    "Append element '$42$' to List $D$ and print the length of $D$"
   ]
  },
  {
   "cell_type": "code",
   "execution_count": 13,
   "metadata": {},
   "outputs": [
    {
     "data": {
      "text/plain": [
       "[3, 0, 4, 5, 10, 42]"
      ]
     },
     "execution_count": 13,
     "metadata": {},
     "output_type": "execute_result"
    }
   ],
   "source": [
    "D.append(42)\n",
    "D"
   ]
  },
  {
   "cell_type": "markdown",
   "metadata": {},
   "source": [
    "Append element '$42$' again to List $D$ and print the length of $D$"
   ]
  },
  {
   "cell_type": "code",
   "execution_count": 18,
   "metadata": {},
   "outputs": [
    {
     "data": {
      "text/plain": [
       "[0, 3, 4, 5, 10, 42, 42]"
      ]
     },
     "execution_count": 18,
     "metadata": {},
     "output_type": "execute_result"
    }
   ],
   "source": [
    "D.append(42)\n",
    "D"
   ]
  },
  {
   "cell_type": "markdown",
   "metadata": {},
   "source": [
    "Remove both elements '$42$' from List $D$, print $D$ and its length"
   ]
  },
  {
   "cell_type": "code",
   "execution_count": 20,
   "metadata": {},
   "outputs": [
    {
     "data": {
      "text/plain": [
       "[0, 3, 4, 5, 10]"
      ]
     },
     "execution_count": 20,
     "metadata": {},
     "output_type": "execute_result"
    }
   ],
   "source": [
    "D=list(set(D))\n",
    "D.remove(42)\n",
    "D"
   ]
  },
  {
   "cell_type": "markdown",
   "metadata": {},
   "source": [
    "Sort list $D$ and print the result"
   ]
  },
  {
   "cell_type": "code",
   "execution_count": 22,
   "metadata": {},
   "outputs": [
    {
     "data": {
      "text/plain": [
       "[0, 3, 4, 5, 10]"
      ]
     },
     "execution_count": 22,
     "metadata": {},
     "output_type": "execute_result"
    }
   ],
   "source": [
    "D.sort()\n",
    "D"
   ]
  },
  {
   "cell_type": "markdown",
   "metadata": {},
   "source": [
    "Reverse list $D$ and print the result"
   ]
  },
  {
   "cell_type": "code",
   "execution_count": 179,
   "metadata": {},
   "outputs": [
    {
     "data": {
      "text/plain": [
       "[10, 5, 4, 3, 0]"
      ]
     },
     "execution_count": 179,
     "metadata": {},
     "output_type": "execute_result"
    }
   ],
   "source": [
    "D.sort(reverse= True)\n",
    "D"
   ]
  },
  {
   "cell_type": "markdown",
   "metadata": {},
   "source": [
    "Replace the second element in the list with the value '$2000$'"
   ]
  },
  {
   "cell_type": "code",
   "execution_count": 180,
   "metadata": {},
   "outputs": [
    {
     "data": {
      "text/plain": [
       "[10, 2000, 4, 3, 0]"
      ]
     },
     "execution_count": 180,
     "metadata": {},
     "output_type": "execute_result"
    }
   ],
   "source": [
    "D[1]=2000\n",
    "D[2]=4\n",
    "D"
   ]
  },
  {
   "cell_type": "markdown",
   "metadata": {},
   "source": [
    "More on lists: \n",
    "\n",
    "http://www.effbot.org/zone/python-list.htm \n",
    "\n",
    "https://docs.python.org/3/tutorial/introduction.html#lists"
   ]
  },
  {
   "cell_type": "markdown",
   "metadata": {},
   "source": [
    "## Tuples:\n",
    "\n",
    "Tuples are a sequential type just as lists - with the difference that they cannot be changed after definition (they are *immutable*). Tuples can be defined directly or be cast from a list with the *tuple()* function.\n",
    "\n",
    "Define two tuples\n",
    "\n",
    "$A = (1,2,3)$,\n",
    "\n",
    "$B = (4,5,6)$\n",
    "\n",
    "one directly and the other one from a list."
   ]
  },
  {
   "cell_type": "code",
   "execution_count": 181,
   "metadata": {},
   "outputs": [],
   "source": [
    "A= (1,2,3)\n",
    "B= (4,5,6)"
   ]
  },
  {
   "cell_type": "markdown",
   "metadata": {},
   "source": [
    "Extract the second element of tuple '$B$' and print it"
   ]
  },
  {
   "cell_type": "code",
   "execution_count": 182,
   "metadata": {},
   "outputs": [
    {
     "data": {
      "text/plain": [
       "5"
      ]
     },
     "execution_count": 182,
     "metadata": {},
     "output_type": "execute_result"
    }
   ],
   "source": [
    "B[1]"
   ]
  },
  {
   "cell_type": "markdown",
   "metadata": {},
   "source": [
    "Change the second element to '$100$'. \n",
    "\n",
    "\n",
    "\n",
    "If it does not work, catch the exception with a *try/except* clause and print a custom error message instead. "
   ]
  },
  {
   "cell_type": "code",
   "execution_count": 183,
   "metadata": {},
   "outputs": [
    {
     "ename": "TypeError",
     "evalue": "'tuple' object does not support item assignment",
     "output_type": "error",
     "traceback": [
      "\u001b[0;31m---------------------------------------------------------------------------\u001b[0m",
      "\u001b[0;31mTypeError\u001b[0m                                 Traceback (most recent call last)",
      "\u001b[0;32m<ipython-input-183-6e6829787882>\u001b[0m in \u001b[0;36m<module>\u001b[0;34m()\u001b[0m\n\u001b[0;32m----> 1\u001b[0;31m \u001b[0mB\u001b[0m\u001b[0;34m[\u001b[0m\u001b[0;36m1\u001b[0m\u001b[0;34m]\u001b[0m\u001b[0;34m=\u001b[0m\u001b[0;36m100\u001b[0m\u001b[0;34m\u001b[0m\u001b[0m\n\u001b[0m",
      "\u001b[0;31mTypeError\u001b[0m: 'tuple' object does not support item assignment"
     ]
    }
   ],
   "source": [
    "B[1]=100\n"
   ]
  },
  {
   "cell_type": "markdown",
   "metadata": {},
   "source": [
    "Use tuple unpacking to unpack '$A$' into the variables '$a,b,c$' in a single line of code"
   ]
  },
  {
   "cell_type": "code",
   "execution_count": 184,
   "metadata": {},
   "outputs": [
    {
     "name": "stdout",
     "output_type": "stream",
     "text": [
      " tuples dont support item assignment\n"
     ]
    }
   ],
   "source": [
    "if True:\n",
    "    try : \n",
    "      B[1]=100\n",
    "        \n",
    "    except TypeError :\n",
    "         print( ' tuples dont support item assignment')"
   ]
  },
  {
   "cell_type": "markdown",
   "metadata": {},
   "source": [
    "More on tuples: \n",
    "\n",
    "https://docs.python.org/3/tutorial/datastructures.html#tuples-and-sequences\n",
    "\n",
    "More on catching exceptions:\n",
    "\n",
    "https://docs.python.org/3/tutorial/errors.html#handling-exceptions"
   ]
  },
  {
   "cell_type": "markdown",
   "metadata": {},
   "source": [
    "## Sets: \n",
    "\n",
    "Create two sets \n",
    "\n",
    "$A = $'$Apple$','$Peach$','$Banana$','$Blueberry$'\n",
    "\n",
    "$B = $'$Strawberry$','$Peach$','$Banana$','$Pineapple$'\n",
    "\n",
    "and check whether $A$ or $B$ contains the element '$Pineapple$'"
   ]
  },
  {
   "cell_type": "code",
   "execution_count": 185,
   "metadata": {},
   "outputs": [],
   "source": [
    "A={'Apple', 'Peach', 'Banana', 'Blueberry'}\n",
    "B={'Strawberry', 'Peach', 'Banana', 'Pineapple'}\n"
   ]
  },
  {
   "cell_type": "markdown",
   "metadata": {},
   "source": [
    "Calculate and print the result of the following expressions\n",
    "\n",
    "$A \\, \\bigcup \\, B$ (Union), \n",
    "$A \\, \\bigcap \\, B$ (Intersection), \n",
    "$A \\, \\setminus \\, B$ (Difference), \n",
    "$A \\, \\triangle \\, B = (A \\, \\setminus \\, B) \\, \\bigcup \\, (B \\, \\setminus \\, A)$ (Symmetric difference)"
   ]
  },
  {
   "cell_type": "code",
   "execution_count": 186,
   "metadata": {},
   "outputs": [
    {
     "data": {
      "text/plain": [
       "{'Apple', 'Banana', 'Blueberry', 'Peach', 'Pineapple', 'Strawberry'}"
      ]
     },
     "execution_count": 186,
     "metadata": {},
     "output_type": "execute_result"
    }
   ],
   "source": [
    "A | B"
   ]
  },
  {
   "cell_type": "code",
   "execution_count": 187,
   "metadata": {},
   "outputs": [
    {
     "data": {
      "text/plain": [
       "{'Banana', 'Peach'}"
      ]
     },
     "execution_count": 187,
     "metadata": {},
     "output_type": "execute_result"
    }
   ],
   "source": [
    "A & B"
   ]
  },
  {
   "cell_type": "code",
   "execution_count": 188,
   "metadata": {},
   "outputs": [
    {
     "data": {
      "text/plain": [
       "{'Apple', 'Blueberry'}"
      ]
     },
     "execution_count": 188,
     "metadata": {},
     "output_type": "execute_result"
    }
   ],
   "source": [
    "A-B"
   ]
  },
  {
   "cell_type": "markdown",
   "metadata": {},
   "source": [
    "More on Sets:\n",
    "\n",
    "https://docs.python.org/3/library/sets.html"
   ]
  },
  {
   "cell_type": "code",
   "execution_count": 189,
   "metadata": {},
   "outputs": [
    {
     "data": {
      "text/plain": [
       "{'Apple', 'Blueberry', 'Pineapple', 'Strawberry'}"
      ]
     },
     "execution_count": 189,
     "metadata": {},
     "output_type": "execute_result"
    }
   ],
   "source": [
    "(A-B) | (B-A)"
   ]
  },
  {
   "cell_type": "markdown",
   "metadata": {},
   "source": [
    "## Dictionaries:"
   ]
  },
  {
   "cell_type": "markdown",
   "metadata": {},
   "source": [
    "Create and print a dictionary $D$ with the key-value pairs \n",
    "\n",
    "$'pen-567'$, \n",
    "\n",
    "$'paper-673'$, \n",
    "\n",
    "$'keyboard-52'$"
   ]
  },
  {
   "cell_type": "code",
   "execution_count": 190,
   "metadata": {},
   "outputs": [
    {
     "data": {
      "text/plain": [
       "567"
      ]
     },
     "execution_count": 190,
     "metadata": {},
     "output_type": "execute_result"
    }
   ],
   "source": [
    "D= {'pen': 567, 'paper': 673, 'keyboard': 52}\n",
    "D['pen']"
   ]
  },
  {
   "cell_type": "markdown",
   "metadata": {},
   "source": [
    "Add the key-value pair $'monitor-4'$ to $D$ and print $D$  "
   ]
  },
  {
   "cell_type": "code",
   "execution_count": 191,
   "metadata": {},
   "outputs": [
    {
     "data": {
      "text/plain": [
       "{'keyboard': 52, 'monitor': 4, 'paper': 673, 'pen': 567}"
      ]
     },
     "execution_count": 191,
     "metadata": {},
     "output_type": "execute_result"
    }
   ],
   "source": [
    "D['monitor']= 4\n",
    "D"
   ]
  },
  {
   "cell_type": "markdown",
   "metadata": {},
   "source": [
    "Delete the key '$pen$' and print the keys of $D$"
   ]
  },
  {
   "cell_type": "code",
   "execution_count": 192,
   "metadata": {},
   "outputs": [
    {
     "data": {
      "text/plain": [
       "{'keyboard': 52, 'monitor': 4, 'paper': 673}"
      ]
     },
     "execution_count": 192,
     "metadata": {},
     "output_type": "execute_result"
    }
   ],
   "source": [
    "del D['pen']\n",
    "D"
   ]
  },
  {
   "cell_type": "markdown",
   "metadata": {},
   "source": [
    "Check whether '$paper$' is a key of $D$ and if so, print its value."
   ]
  },
  {
   "cell_type": "code",
   "execution_count": 193,
   "metadata": {},
   "outputs": [
    {
     "name": "stdout",
     "output_type": "stream",
     "text": [
      "673\n"
     ]
    }
   ],
   "source": [
    "if 'paper' in D:\n",
    "    print(D['paper'])"
   ]
  },
  {
   "cell_type": "markdown",
   "metadata": {},
   "source": [
    "Check whether '$pen$' is a key of $D$ (This can be done without exception handling)"
   ]
  },
  {
   "cell_type": "code",
   "execution_count": 194,
   "metadata": {},
   "outputs": [],
   "source": [
    "import numpy as np"
   ]
  },
  {
   "cell_type": "code",
   "execution_count": 196,
   "metadata": {},
   "outputs": [
    {
     "data": {
      "text/plain": [
       "8"
      ]
     },
     "execution_count": 196,
     "metadata": {},
     "output_type": "execute_result"
    }
   ],
   "source": []
  },
  {
   "cell_type": "markdown",
   "metadata": {},
   "source": [
    "More on dictionaries:\n",
    "\n",
    "\n",
    "\n",
    "http://www.tutorialspoint.com/python/python_dictionary.htm"
   ]
  },
  {
   "cell_type": "markdown",
   "metadata": {},
   "source": [
    "# Functions and control structures\n",
    "\n",
    "What you should learn: Functions, lambda expressions, if-elif-else statements, for-loop, while-loop, list-comprehensions, map, zip , enumerate\n"
   ]
  },
  {
   "cell_type": "markdown",
   "metadata": {},
   "source": [
    "## Functions:\n",
    "\n",
    "Define the following polynomial as a Python function with default value for x = 3:\n",
    "\n",
    "$f(x) =  5*x^2 - 4*\\mid x^3\\mid + \\frac{1}{10}x^5$\n",
    "\n",
    "and print the value for:\n",
    "\n",
    "$y = f(5)$"
   ]
  },
  {
   "cell_type": "code",
   "execution_count": 314,
   "metadata": {},
   "outputs": [],
   "source": [
    "def f(x): \n",
    "    y= 5*x**2-4*np.abs(x**3)+ 0.1*x**5\n",
    "    return y\n"
   ]
  },
  {
   "cell_type": "code",
   "execution_count": 315,
   "metadata": {},
   "outputs": [
    {
     "name": "stdout",
     "output_type": "stream",
     "text": [
      "-62.5\n"
     ]
    }
   ],
   "source": [
    "print(f(5))"
   ]
  },
  {
   "cell_type": "code",
   "execution_count": 215,
   "metadata": {},
   "outputs": [],
   "source": [
    "#fibonacci practice. print values upto the given value of n\n",
    "\n",
    "def z(n):\n",
    "    print(' the series is')\n",
    "    a,b= 0,1\n",
    "    while a<n : \n",
    "        print(a, end='  ')\n",
    "        a=b\n",
    "        b=a+b\n",
    "        \n",
    "        "
   ]
  },
  {
   "cell_type": "code",
   "execution_count": 216,
   "metadata": {},
   "outputs": [
    {
     "name": "stdout",
     "output_type": "stream",
     "text": [
      " the series is\n",
      "0  1  2  4  8  16  32  64  "
     ]
    }
   ],
   "source": [
    "z(100)"
   ]
  },
  {
   "cell_type": "code",
   "execution_count": 3,
   "metadata": {},
   "outputs": [],
   "source": [
    "#fibonacci practice. print values upto the given value of n\n",
    "def p(n):\n",
    "    a=0\n",
    "    b=1\n",
    "    count=2\n",
    "    arr=[0,1]\n",
    "    while(count<n):\n",
    "        c=a+b\n",
    "        arr.append(c)\n",
    "        a=b\n",
    "        b=c\n",
    "        count+=1\n",
    "    print(arr)"
   ]
  },
  {
   "cell_type": "code",
   "execution_count": 4,
   "metadata": {},
   "outputs": [
    {
     "name": "stdout",
     "output_type": "stream",
     "text": [
      "[0, 1, 1, 2, 3, 5, 8, 13, 21, 34]\n"
     ]
    }
   ],
   "source": [
    "p(10)"
   ]
  },
  {
   "cell_type": "markdown",
   "metadata": {},
   "source": [
    "Now implement this polynomial as an anonymous Functions using a *lambda* expression.\n",
    "\n",
    "https://docs.python.org/3/tutorial/controlflow.html"
   ]
  },
  {
   "cell_type": "code",
   "execution_count": 232,
   "metadata": {},
   "outputs": [
    {
     "data": {
      "text/plain": [
       "-62.5"
      ]
     },
     "execution_count": 232,
     "metadata": {},
     "output_type": "execute_result"
    }
   ],
   "source": [
    "#def f(x): \n",
    "#   y= 5*x**2-4*np.abs(x**3)+ 0.1*x**5\n",
    " #   print(y)\n",
    "\n",
    "y= lambda x: 5*x**2-4*np.abs(x**3)+ 0.1*x**5 #lamba funciton is a temporary funciton, used to quickly define a fucntion without defining a new one\n",
    "y(5)"
   ]
  },
  {
   "cell_type": "markdown",
   "metadata": {},
   "source": [
    "## Functions are objects:\n",
    "\n",
    "In Python almost everything is an object and that includes functions. Using the lambda expression build a list of functions that each gets an argument $u$ and returns $u^{i+1}$ where $i$ is the list index. The list should have length 3.\n",
    "\n",
    "Execute the second element of the list with the argument $10$."
   ]
  },
  {
   "cell_type": "code",
   "execution_count": null,
   "metadata": {},
   "outputs": [],
   "source": []
  },
  {
   "cell_type": "markdown",
   "metadata": {},
   "source": [
    "More on functions:\n",
    "\n",
    "http://www.tutorialspoint.com/python/python_functions.htm"
   ]
  },
  {
   "cell_type": "markdown",
   "metadata": {},
   "source": [
    "## If-elif-else statement:"
   ]
  },
  {
   "cell_type": "markdown",
   "metadata": {},
   "source": [
    "Modify function $f$ using a $if-elif-else$ statement such that it returns the value of the polynomial only if $0<=x<=10$. If $x <= 0$ it should return the string \"x is to small\" and if $x>=10$ it should return the string \"x is to big\". Print the output for $f(-8)$, $f(1)$, $f(10)$"
   ]
  },
  {
   "cell_type": "code",
   "execution_count": 486,
   "metadata": {},
   "outputs": [],
   "source": [
    "def v(x): \n",
    "    if x<= 0: \n",
    "        \n",
    "        return 'x is too small'\n",
    "    elif x>=10:\n",
    "         \n",
    "        return 'x is too big'\n",
    "    else: \n",
    "        y= 5*x**2-4*np.abs(x**3)+ 0.1*x**5\n",
    "        \n",
    "        return y\n",
    "    "
   ]
  },
  {
   "cell_type": "code",
   "execution_count": 487,
   "metadata": {},
   "outputs": [
    {
     "data": {
      "text/plain": [
       "'x is too small'"
      ]
     },
     "execution_count": 487,
     "metadata": {},
     "output_type": "execute_result"
    }
   ],
   "source": [
    "v(-100)"
   ]
  },
  {
   "cell_type": "code",
   "execution_count": 488,
   "metadata": {},
   "outputs": [
    {
     "data": {
      "text/plain": [
       "-8.8000000000000007"
      ]
     },
     "execution_count": 488,
     "metadata": {},
     "output_type": "execute_result"
    }
   ],
   "source": [
    "v(2)"
   ]
  },
  {
   "cell_type": "code",
   "execution_count": 489,
   "metadata": {},
   "outputs": [
    {
     "data": {
      "text/plain": [
       "'x is too big'"
      ]
     },
     "execution_count": 489,
     "metadata": {},
     "output_type": "execute_result"
    }
   ],
   "source": [
    "v(10)"
   ]
  },
  {
   "cell_type": "markdown",
   "metadata": {},
   "source": [
    "More on if-elif-else:\n",
    "\n",
    "http://www.tutorialspoint.com/python/python_if_else.htm"
   ]
  },
  {
   "cell_type": "markdown",
   "metadata": {},
   "source": [
    "## For-Loop:"
   ]
  },
  {
   "cell_type": "markdown",
   "metadata": {},
   "source": [
    "Use a for-loop to plot the values of $f$ between -13 and 36 with stepsize 5:"
   ]
  },
  {
   "cell_type": "code",
   "execution_count": 376,
   "metadata": {},
   "outputs": [],
   "source": [
    "import matplotlib\n",
    "import numpy as np\n",
    "import matplotlib.pyplot as plt\n",
    "%matplotlib inline"
   ]
  },
  {
   "cell_type": "code",
   "execution_count": 391,
   "metadata": {},
   "outputs": [
    {
     "data": {
      "text/plain": [
       "array([-13,  -8,  -3,   2,   7,  12,  17,  22,  27,  32])"
      ]
     },
     "execution_count": 391,
     "metadata": {},
     "output_type": "execute_result"
    }
   ],
   "source": [
    "#x=np.arange(-13,36,5)\n",
    "\n",
    "           "
   ]
  },
  {
   "cell_type": "code",
   "execution_count": 491,
   "metadata": {},
   "outputs": [
    {
     "name": "stdout",
     "output_type": "stream",
     "text": [
      "-8.8\n",
      "553.7\n"
     ]
    }
   ],
   "source": [
    "for i in range(-13,36,5):\n",
    "    if v(i)== 'x is too small':\n",
    "        continue\n",
    "    elif v(i)== 'x is too big' : \n",
    "        break\n",
    "    else:\n",
    "        print(v(i))"
   ]
  },
  {
   "cell_type": "markdown",
   "metadata": {},
   "source": []
  },
  {
   "cell_type": "markdown",
   "metadata": {},
   "source": [
    "use the continue statement to continue the loop if f returns 'x is to small' and the break steament to leave the loop once f returns 'x is too big'"
   ]
  },
  {
   "cell_type": "code",
   "execution_count": null,
   "metadata": {},
   "outputs": [],
   "source": []
  },
  {
   "cell_type": "markdown",
   "metadata": {},
   "source": [
    "Notice that break and continue are build in functions but they can also be implemented using if-else statement!\n",
    "\n",
    "In Python, you can loop over every sequential type! Define a list:\n",
    "\n",
    "$L = [1,1,2,3,5,8]$,\n",
    "\n",
    "Apply your function to this list with a for-loop again."
   ]
  },
  {
   "cell_type": "code",
   "execution_count": 493,
   "metadata": {},
   "outputs": [
    {
     "name": "stdout",
     "output_type": "stream",
     "text": [
      "1.1\n",
      "1.1\n",
      "-8.8\n",
      "-38.7\n",
      "-62.5\n",
      "1548.8\n"
     ]
    }
   ],
   "source": [
    "L=[1,1,2,3,5,8]\n",
    "for i in L:\n",
    "    print(v(i))"
   ]
  },
  {
   "cell_type": "markdown",
   "metadata": {},
   "source": [
    "## While-Loop:"
   ]
  },
  {
   "cell_type": "markdown",
   "metadata": {},
   "source": [
    "Print $f(x)$ starting from $0$ until the function $f$ returns a value bigger than $100$ using a while loop. You need to take care of the string values $f$ produces."
   ]
  },
  {
   "cell_type": "code",
   "execution_count": 501,
   "metadata": {},
   "outputs": [
    {
     "name": "stdout",
     "output_type": "stream",
     "text": [
      "1.1\n",
      "-8.8\n",
      "-38.7\n",
      "-73.6\n",
      "-62.5\n",
      "93.6\n",
      "553.7\n"
     ]
    }
   ],
   "source": [
    "i=0\n",
    "value=0\n",
    "while value<100:\n",
    "    if v(i)== 'x is too small':\n",
    "        i+=1\n",
    "        continue\n",
    "    elif v(i)== 'x is too big' : \n",
    "        i+=1\n",
    "        break\n",
    "    else:\n",
    "        \n",
    "        value=v(i)\n",
    "        print(value)\n",
    "        i+=1"
   ]
  },
  {
   "cell_type": "markdown",
   "metadata": {},
   "source": [
    "More on loops:\n",
    "\n",
    "https://en.wikibooks.org/wiki/Python_Programming/Loops"
   ]
  },
  {
   "cell_type": "markdown",
   "metadata": {},
   "source": [
    "## Map:\n",
    "\n",
    "If you simply want to apply a function on a list of values, or if every step in a loop is independent of the others you can also use the *map* function. *map* applies a function to every entry of a sequential type at the same time and provides you the list of results. Use it to apply your function to $L$ and print the result."
   ]
  },
  {
   "cell_type": "code",
   "execution_count": 533,
   "metadata": {},
   "outputs": [
    {
     "name": "stdout",
     "output_type": "stream",
     "text": [
      "[1.1000000000000001, 1.1000000000000001, -8.8000000000000007, -38.700000000000003, -62.5, 1548.8000000000002]\n"
     ]
    }
   ],
   "source": [
    "values=list((map(v,L)))\n",
    "print(values)"
   ]
  },
  {
   "cell_type": "markdown",
   "metadata": {},
   "source": [
    "## List comprehensions:"
   ]
  },
  {
   "cell_type": "markdown",
   "metadata": {},
   "source": [
    "List comprehensions are a pythonic way of looping. Create a list $A$ with all even numbers between $0$ and $20$ and a list $B$ with all odd numbers between $0$ and $20$ using list comprehensions and modulo (both $0$ and $20$ are exclusive)"
   ]
  },
  {
   "cell_type": "code",
   "execution_count": null,
   "metadata": {},
   "outputs": [],
   "source": [
    "# best link to understand list comprehensions and generators\n",
    "# https://www.youtube.com/watch?v=3dt4OGnU5sM\n"
   ]
  },
  {
   "cell_type": "code",
   "execution_count": 535,
   "metadata": {},
   "outputs": [
    {
     "data": {
      "text/plain": [
       "[0, 2, 4, 6, 8, 10, 12, 14, 16, 18]"
      ]
     },
     "execution_count": 535,
     "metadata": {},
     "output_type": "execute_result"
    }
   ],
   "source": [
    "A= [n for n in range(0,20) if n%2==0]\n",
    "A"
   ]
  },
  {
   "cell_type": "code",
   "execution_count": 538,
   "metadata": {},
   "outputs": [
    {
     "data": {
      "text/plain": [
       "[1, 3, 5, 7, 9, 11, 13, 15, 17, 19]"
      ]
     },
     "execution_count": 538,
     "metadata": {},
     "output_type": "execute_result"
    }
   ],
   "source": [
    "B=[ n for n in range(0,20) if n%2!=0 ]\n",
    "B"
   ]
  },
  {
   "cell_type": "markdown",
   "metadata": {},
   "source": [
    "Use a list comprehension to square all the numbers in list $A$."
   ]
  },
  {
   "cell_type": "code",
   "execution_count": 550,
   "metadata": {},
   "outputs": [
    {
     "data": {
      "text/plain": [
       "[0, 4, 16, 36, 64, 100, 144, 196, 256, 324]"
      ]
     },
     "execution_count": 550,
     "metadata": {},
     "output_type": "execute_result"
    }
   ],
   "source": [
    "A_sqaure= [A[n]**2 for n in range(0,len(A))]\n",
    "A_sqaure"
   ]
  },
  {
   "cell_type": "markdown",
   "metadata": {},
   "source": [
    "More on list comprehensions:\n",
    "    \n",
    "https://docs.python.org/3/tutorial/datastructures.html#list-comprehensions"
   ]
  },
  {
   "cell_type": "markdown",
   "metadata": {
    "collapsed": true
   },
   "source": [
    "## Zip function:"
   ]
  },
  {
   "cell_type": "markdown",
   "metadata": {},
   "source": [
    "Loop through $A$ and $B$ at the same time using the zip function, this can either be done using a for loop or a list comprehension. "
   ]
  },
  {
   "cell_type": "code",
   "execution_count": 551,
   "metadata": {},
   "outputs": [
    {
     "data": {
      "text/plain": [
       "[(0, 1),\n",
       " (2, 3),\n",
       " (4, 5),\n",
       " (6, 7),\n",
       " (8, 9),\n",
       " (10, 11),\n",
       " (12, 13),\n",
       " (14, 15),\n",
       " (16, 17),\n",
       " (18, 19)]"
      ]
     },
     "execution_count": 551,
     "metadata": {},
     "output_type": "execute_result"
    }
   ],
   "source": [
    "C= [n for n in zip(A,B)]\n",
    "C"
   ]
  },
  {
   "cell_type": "markdown",
   "metadata": {},
   "source": [
    "## Emumerate:\n",
    "\n",
    "Create a list comprehension expression that creates a list of (index, item) tuples for all elements in B using *enumerate*. Try to use tuple-unpacking directly in the head of the for-loop and print the index in every step."
   ]
  },
  {
   "cell_type": "code",
   "execution_count": 556,
   "metadata": {},
   "outputs": [
    {
     "data": {
      "text/plain": [
       "[(0, 1),\n",
       " (1, 3),\n",
       " (2, 5),\n",
       " (3, 7),\n",
       " (4, 9),\n",
       " (5, 11),\n",
       " (6, 13),\n",
       " (7, 15),\n",
       " (8, 17),\n",
       " (9, 19)]"
      ]
     },
     "execution_count": 556,
     "metadata": {},
     "output_type": "execute_result"
    }
   ],
   "source": [
    "B_enumerate_list= [(i,j) for i,j in enumerate (B)]\n",
    "B_enumerate_list"
   ]
  },
  {
   "cell_type": "markdown",
   "metadata": {},
   "source": [
    "# OOP and throwing exceptions"
   ]
  },
  {
   "cell_type": "markdown",
   "metadata": {},
   "source": [
    "Python is an object-oriented language (you should know about OOP from your previous programming courses). Make sure to read \n",
    "https://docs.python.org/3/tutorial/classes.html before tackling these exercise. It's okay to just focus on the examples."
   ]
  },
  {
   "cell_type": "markdown",
   "metadata": {},
   "source": [
    "Create a class $Vector$ that gets a list of values as initialization for the vector coordinates. Now implement three methods:\n",
    "\n",
    "\n",
    "* A method 'norm()' should implement calculating the norm of a vector, so that you can just do \"*v.norm()*\" if *v* is your *Vector*-object.\n",
    "\n",
    "* 'scalar_multiplication()' should implement a multiplication with a scalar and return an object of the $Vector$ class as a result without changing the  value of the current vector, so that you can do \"*u=v.scalar_multiplication(3)*\".\n",
    "\n",
    "* 'dot_product()' should get a $Vector$ object and return a scalar according to the definition of the inner product https://en.wikipedia.org/wiki/Dot_product#Algebraic_definition. Make sure that the method throws a 'ValueError' exception when the dimensions of the vectors do not match.\n",
    "\n",
    "Comment your methods!\n",
    "\n",
    "Pro tip: the mathematical part of the 'dot_product()' can be implemented in a single line.\n",
    "\n"
   ]
  },
  {
   "cell_type": "code",
   "execution_count": 610,
   "metadata": {},
   "outputs": [],
   "source": [
    "class Vector:\n",
    "    # This is a vector class with a constructor and 3 methods. norm,scalar_multiplication and dot_product\n",
    "    \n",
    "    def __init__(self,items):\n",
    "        self.x=x\n",
    "        self.y=y\n",
    "        self.z=z\n",
    "        \n",
    "    def norm(self):\n",
    "        return np.sqrt( self.x**2+ self.y**2+self.z**2) \n",
    "    \n",
    "    def scalar_multiplication(self,m):\n",
    "        m=m\n",
    "        return (self.x*m, self.y*m,self.z*m)\n",
    "    \n",
    "    def dot_product(self,Vector):\n",
    "        \n",
    "        if True:\n",
    "            try: \n",
    "                return ( self.x*Vector.x+ self.y*Vector.y+self.z*Vector.z)\n",
    "            except:\n",
    "                return 'value error'\n",
    "        "
   ]
  },
  {
   "cell_type": "markdown",
   "metadata": {},
   "source": [
    "Now create a class $FlexiVector$ that inherits from $Vector$ but implements a 'product()' method that chooses either the 'scalar_multiplication()' or the 'dot_product()' function based on the type of the provided argument. You can check the type of an object with the *type()* function."
   ]
  },
  {
   "cell_type": "code",
   "execution_count": 609,
   "metadata": {},
   "outputs": [],
   "source": [
    "vec=Vector(1,1,1)"
   ]
  },
  {
   "cell_type": "code",
   "execution_count": 606,
   "metadata": {},
   "outputs": [
    {
     "data": {
      "text/plain": [
       "(2, 2, 2)"
      ]
     },
     "execution_count": 606,
     "metadata": {},
     "output_type": "execute_result"
    }
   ],
   "source": [
    "vec.scalar_multiplication(2)"
   ]
  },
  {
   "cell_type": "code",
   "execution_count": 611,
   "metadata": {},
   "outputs": [
    {
     "data": {
      "text/plain": [
       "3"
      ]
     },
     "execution_count": 611,
     "metadata": {},
     "output_type": "execute_result"
    }
   ],
   "source": [
    "vec.dot_product(vec)"
   ]
  },
  {
   "cell_type": "markdown",
   "metadata": {},
   "source": [
    "More on OOP:\n",
    "\n",
    "https://www.codecademy.com/courses/python-intermediate-en-WL8e4/0/1\n",
    "\n",
    "http://www.tutorialspoint.com/python/python_classes_objects.htm\n",
    "\n",
    "More on Exceptions:\n",
    "\n",
    "http://www.tutorialspoint.com/python/python_exceptions.htm"
   ]
  },
  {
   "cell_type": "markdown",
   "metadata": {},
   "source": [
    "# Generators\n",
    "\n",
    "Python often uses iterators, such that 'for i in range(20):' loops over a list that (in Python 2.7) is created beforehand by range(20).\n",
    "See:https://wiki.python.org/moin/Iterator \n",
    "\n",
    "Creating all objects we want to loop over in advance might not always be a good idea, think of memory limitations for example. This is where generators come into account. Generators behave and can be used like an iterator but produce the next item on the fly. Please read the following article about generators https://wiki.python.org/moin/Generators\n",
    "\n",
    "Create an generator that creates the Fibonacci numbers 0,1,1,2,3,5, ...."
   ]
  },
  {
   "cell_type": "code",
   "execution_count": 692,
   "metadata": {},
   "outputs": [],
   "source": [
    "def fib(n):\n",
    "    a,b= 0,1\n",
    "    list=[0,1]\n",
    "    for i in range(0,n):\n",
    "        c=a+b\n",
    "        list.append(c)\n",
    "        a=b\n",
    "        b=c \n",
    "    yield list\n",
    "# link to understand generators\n",
    "# https://youtu.be/bD05uGo_sVI\n"
   ]
  },
  {
   "cell_type": "code",
   "execution_count": 691,
   "metadata": {},
   "outputs": [
    {
     "data": {
      "text/plain": [
       "[[0, 1, 1, 2, 3, 5, 8, 13, 21, 34, 55, 89]]"
      ]
     },
     "execution_count": 691,
     "metadata": {},
     "output_type": "execute_result"
    }
   ],
   "source": [
    "list(fib(10))"
   ]
  },
  {
   "cell_type": "code",
   "execution_count": null,
   "metadata": {},
   "outputs": [],
   "source": []
  },
  {
   "cell_type": "markdown",
   "metadata": {},
   "source": [
    "# Decorators "
   ]
  },
  {
   "cell_type": "markdown",
   "metadata": {},
   "source": [
    "Decorators are basically a fast way to define wrapper functions.\n",
    "Please read this tutorial before continuing\n",
    "http://thecodeship.com/patterns/guide-to-python-function-decorators/\n",
    "\n",
    "Write a function 'concat_strings(strings, delimiter)' that concatenates a list of strings using a given delimiter. \n",
    "Example: concat_string(['G','A','F','H','Q'],'-') results in the string G-A-F-H-Q\n",
    "\n",
    "Now write a decorator '@sorted' that sorts the first argument (list of strings)\n",
    "\n",
    "print the result for concat_strings(['G','A','F','H','Q'],'-') with and without decorator."
   ]
  },
  {
   "cell_type": "code",
   "execution_count": 898,
   "metadata": {},
   "outputs": [],
   "source": [
    "def decorater_function_sorted(original_function):\n",
    "    def wrapper_function(*args,**kwargs):\n",
    "        args[0].sort()\n",
    "        return original_function(*args,**kwargs)\n",
    "    return wrapper_function\n",
    "\n",
    "def decorater_function_not_sorted(original_function):\n",
    "    def wrapper_function(*args,**kwargs):\n",
    "        #args[0].sort()\n",
    "        return original_function(*args,**kwargs)\n",
    "    return wrapper_function\n",
    "\n",
    "@decorater_function_sorted\n",
    "def contact_string(strings, delimiter):\n",
    "    concatstring=''\n",
    "    for i in range(0,len(strings)):\n",
    "            if i==len(strings)-1:\n",
    "                concatstring= concatstring+strings[i]\n",
    "            else:\n",
    "                concatstring= concatstring+strings[i]+delimiter\n",
    "            i+=1\n",
    "    print('with wrapper ', concatstring)\n",
    "    print('without wrapper', concatstring)\n",
    "    \n",
    "@decorater_function_not_sorted    \n",
    "def contact_string_withoutwrapper(strings, delimiter):\n",
    "    concatstring=''\n",
    "    for i in range(0,len(strings)):\n",
    "            if i==len(strings)-1:\n",
    "                concatstring= concatstring+strings[i]\n",
    "            else:\n",
    "                concatstring= concatstring+strings[i]+delimiter\n",
    "            i+=1\n",
    "    print('without wrapper', concatstring)\n",
    "    "
   ]
  },
  {
   "cell_type": "code",
   "execution_count": 897,
   "metadata": {},
   "outputs": [
    {
     "name": "stdout",
     "output_type": "stream",
     "text": [
      "with wrapper  A-F-H-J-Q\n",
      "without wrapper A-F-H-J-Q\n"
     ]
    }
   ],
   "source": [
    "contact_string(['J','A','F','H','Q'],'-' )"
   ]
  },
  {
   "cell_type": "markdown",
   "metadata": {},
   "source": [
    "Decorators can also be use to implement type bindings in python. \n",
    "\n",
    "Write a function 'print_int(int1,int2)' that simply prints the two integers.\n",
    "\n",
    "Write a decorator '@args_int' that raises an exception if any passed argument is not an integer. \n",
    "\n",
    "Check the ouput for print_int(2,3) and print_int(2,'three') with and without decorator."
   ]
  },
  {
   "cell_type": "code",
   "execution_count": 836,
   "metadata": {},
   "outputs": [
    {
     "data": {
      "text/plain": [
       "['A', 'F', 'G', 'H', 'Q']"
      ]
     },
     "execution_count": 836,
     "metadata": {},
     "output_type": "execute_result"
    }
   ],
   "source": [
    "s=['G','A','F','H','Q']\n",
    "s.sort()\n",
    "s"
   ]
  },
  {
   "cell_type": "markdown",
   "metadata": {},
   "source": [
    "# Imports and simple timing\n",
    "\n",
    "Python has a large number of core modules that provide additional functions. They can be imported using the *import* statement. See https://www.tutorialspoint.com/python/python_modules.htm\n",
    "\n",
    "\n",
    "\n",
    "Import the 'time' and 'random' modules."
   ]
  },
  {
   "cell_type": "code",
   "execution_count": 702,
   "metadata": {},
   "outputs": [],
   "source": [
    "import time as t\n",
    "from random import random as randn"
   ]
  },
  {
   "cell_type": "markdown",
   "metadata": {},
   "source": [
    "Use the time modules 'time()' function to check how fast your $Vector$ classes scalar product is in miliseconds (or microseconds, if mili is too small).\n",
    "\n",
    "Average your results over $20$ runs by generating two random vectors in each run. Print averages for vector sizes $2^i,\\,i=\\{1,\\cdots,12\\}$.\n",
    "\n",
    "Take a look at:\n",
    "\n",
    "https://docs.python.org/3/library/time.html#time.time\n",
    "\n",
    "https://docs.python.org/3/library/random.html#random.uniform"
   ]
  },
  {
   "cell_type": "code",
   "execution_count": 709,
   "metadata": {},
   "outputs": [
    {
     "name": "stdout",
     "output_type": "stream",
     "text": [
      " avg time taken is  3.71932983398e-06\n"
     ]
    }
   ],
   "source": [
    "avg_time=[]\n",
    "for i in range(0,20):\n",
    "    time_start= t.time()\n",
    "    vec1=Vector(randn(),randn(),randn())\n",
    "    vec2=Vector(randn(),randn(),randn())\n",
    "    vec.scalar_multiplication(2)\n",
    "    time_end= t.time()\n",
    "    avg_time.append(time_end-time_start)\n",
    "    \n",
    "print(' avg time taken is ', np.mean(avg_time))"
   ]
  },
  {
   "cell_type": "code",
   "execution_count": 699,
   "metadata": {},
   "outputs": [
    {
     "data": {
      "text/plain": [
       "6.914138793945312e-05"
      ]
     },
     "execution_count": 699,
     "metadata": {},
     "output_type": "execute_result"
    }
   ],
   "source": []
  },
  {
   "cell_type": "code",
   "execution_count": 704,
   "metadata": {},
   "outputs": [
    {
     "data": {
      "text/plain": [
       "0.5016230934485498"
      ]
     },
     "execution_count": 704,
     "metadata": {},
     "output_type": "execute_result"
    }
   ],
   "source": []
  },
  {
   "cell_type": "code",
   "execution_count": null,
   "metadata": {},
   "outputs": [],
   "source": []
  }
 ],
 "metadata": {
  "kernelspec": {
   "display_name": "Python 3",
   "language": "python",
   "name": "python3"
  },
  "language_info": {
   "codemirror_mode": {
    "name": "ipython",
    "version": 3
   },
   "file_extension": ".py",
   "mimetype": "text/x-python",
   "name": "python",
   "nbconvert_exporter": "python",
   "pygments_lexer": "ipython3",
   "version": "3.6.5"
  }
 },
 "nbformat": 4,
 "nbformat_minor": 1
}
