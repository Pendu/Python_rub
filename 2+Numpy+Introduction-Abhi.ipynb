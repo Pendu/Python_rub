{
 "cells": [
  {
   "cell_type": "markdown",
   "metadata": {},
   "source": [
    "# Numpy \n",
    "\n",
    "Fundamental building block of scientific Python.\n",
    "* Main attraction: Powerful and highly flexible array object; your new ubiquitous working unit.\n",
    "* Set of most common mathematical utilities (constants, random numbers, linear algebra functions)."
   ]
  },
  {
   "cell_type": "markdown",
   "metadata": {},
   "source": [
    "## Import"
   ]
  },
  {
   "cell_type": "code",
   "execution_count": 2,
   "metadata": {},
   "outputs": [],
   "source": [
    "# imports\n",
    "import numpy as np                 # It will be used a lot, so the shorthand is helpful.\n",
    "import matplotlib.pyplot as plt    # Same here.\n",
    "%matplotlib inline"
   ]
  },
  {
   "cell_type": "markdown",
   "metadata": {},
   "source": [
    "## Numpy array basics\n",
    "\n",
    "Every numpy array has some basic values that denote its format. Note that numpy array **cannot** change their size once they are created, but they **can** change their shape, i.e., an array will always hold the same number of elements, but their organization into rows and columns may change as desired.\n",
    "* **ndarray.ndim:** The number of axes/dimensions of an array. The default matrix used for math problems is of dimensionality 2.\n",
    "* **ndarray.shape:** A tuple of integers indicating the size of an array in each dimension. For a matrix with n rows and m columns, shape will be (n,m). The length of the shape tuple is therefore the rank, or number of dimensions, ndim. \n",
    "* **ndarray.size:** The total number of elements of the array. This is equal to the product of the elements of shape. \n",
    "* **ndarray.dtype:** The data type of the array elements. Defaults to 64 bit floating point values and can be set when the array is created.\n",
    "\n",
    "(*see:* [Numpy basics](http://wiki.scipy.org/Tentative_NumPy_Tutorial#head-6a1bc005bd80e1b19f812e1e64e0d25d50f99fe2))"
   ]
  },
  {
   "cell_type": "code",
   "execution_count": 3,
   "metadata": {},
   "outputs": [
    {
     "name": "stdout",
     "output_type": "stream",
     "text": [
      "[[1 2 3]\n",
      " [4 5 6]\n",
      " [7 8 9]]\n",
      "(3, 3)\n"
     ]
    }
   ],
   "source": [
    "m = np.array([[1,2,3],\n",
    "              [4,5,6],\n",
    "              [7,8,9]], dtype=np.int32) # np.float32, np.float64, np.complex64, np.complex128\n",
    "print(m)\n",
    "print(m.shape)"
   ]
  },
  {
   "cell_type": "markdown",
   "metadata": {},
   "source": [
    "### Under the hood\n",
    "* Numpy arrays believe in sharing is caring and will share their data with other arrays. Slicing does NOT return a new array, but instead a *view* on the data of another array:"
   ]
  },
  {
   "cell_type": "code",
   "execution_count": 4,
   "metadata": {},
   "outputs": [
    {
     "name": "stdout",
     "output_type": "stream",
     "text": [
      "BEFORE\n",
      "[4 5 6] slice \n",
      "\n",
      "[[1 2 3]\n",
      " [4 5 6]\n",
      " [7 8 9]] \n",
      "\n",
      "AFTER\n",
      "[0 5 6] slice\n",
      "\n",
      "[[1 2 3]\n",
      " [0 5 6]\n",
      " [7 8 9]] \n",
      "\n"
     ]
    }
   ],
   "source": [
    "s = m[1]\n",
    "print('BEFORE')\n",
    "print(s, 'slice', '\\n')\n",
    "print(m, '\\n')\n",
    "s[0] = 0\n",
    "print('AFTER')\n",
    "print(s, 'slice' '\\n')\n",
    "print(m, '\\n')"
   ]
  },
  {
   "cell_type": "markdown",
   "metadata": {},
   "source": [
    "* You can check whether an array actually owns its data by looking at its flags (you should understand *both* differences in the two flag settings):"
   ]
  },
  {
   "cell_type": "code",
   "execution_count": 5,
   "metadata": {},
   "outputs": [
    {
     "name": "stdout",
     "output_type": "stream",
     "text": [
      "  C_CONTIGUOUS : True\n",
      "  F_CONTIGUOUS : False\n",
      "  OWNDATA : True\n",
      "  WRITEABLE : True\n",
      "  ALIGNED : True\n",
      "  WRITEBACKIFCOPY : False\n",
      "  UPDATEIFCOPY : False\n",
      "  C_CONTIGUOUS : True\n",
      "  F_CONTIGUOUS : True\n",
      "  OWNDATA : False\n",
      "  WRITEABLE : True\n",
      "  ALIGNED : True\n",
      "  WRITEBACKIFCOPY : False\n",
      "  UPDATEIFCOPY : False\n"
     ]
    }
   ],
   "source": [
    "print(m.flags)\n",
    "print(s.flags)"
   ]
  },
  {
   "cell_type": "markdown",
   "metadata": {},
   "source": [
    "## Array creation"
   ]
  },
  {
   "cell_type": "code",
   "execution_count": 6,
   "metadata": {},
   "outputs": [],
   "source": [
    "# helper function for examples below; plots the graphical depiction of a given numpy array\n",
    "def showMatrix(X):\n",
    "    Y = np.array(np.array(X, ndmin=2))  # 1D -> 2D\n",
    "    vmin = min(np.min(Y), 0)\n",
    "    vmax = max(np.max(Y), 1)\n",
    "    plt.imshow(Y, interpolation='none', vmin=vmin, vmax=vmax, cmap=plt.cm.get_cmap('Blues'))"
   ]
  },
  {
   "cell_type": "code",
   "execution_count": 7,
   "metadata": {},
   "outputs": [
    {
     "data": {
      "image/png": "[encoded data removed]",
      "text/plain": [
       "<matplotlib.figure.Figure at 0x7f0efda5beb8>"
      ]
     },
     "metadata": {},
     "output_type": "display_data"
    }
   ],
   "source": [
    "Z = np.zeros(9)\n",
    "showMatrix(Z)"
   ]
  },
  {
   "cell_type": "code",
   "execution_count": 8,
   "metadata": {},
   "outputs": [
    {
     "data": {
      "image/png": "[encoded data removed]",
      "text/plain": [
       "<matplotlib.figure.Figure at 0x7f0efda96978>"
      ]
     },
     "metadata": {},
     "output_type": "display_data"
    }
   ],
   "source": [
    "Z = np.zeros((5,9))\n",
    "showMatrix(Z)"
   ]
  },
  {
   "cell_type": "code",
   "execution_count": 9,
   "metadata": {
    "scrolled": true
   },
   "outputs": [
    {
     "data": {
      "image/png": "[encoded data removed]",
      "text/plain": [
       "<matplotlib.figure.Figure at 0x7f0efba10908>"
      ]
     },
     "metadata": {},
     "output_type": "display_data"
    }
   ],
   "source": [
    "Z = np.ones(9)\n",
    "showMatrix(Z)"
   ]
  },
  {
   "cell_type": "code",
   "execution_count": 10,
   "metadata": {},
   "outputs": [
    {
     "data": {
      "image/png": "[encoded data removed]",
      "text/plain": [
       "<matplotlib.figure.Figure at 0x7f0efb8f8b00>"
      ]
     },
     "metadata": {},
     "output_type": "display_data"
    }
   ],
   "source": [
    "Z = np.ones((5,9))\n",
    "showMatrix(Z)"
   ]
  },
  {
   "cell_type": "code",
   "execution_count": 11,
   "metadata": {},
   "outputs": [
    {
     "data": {
      "image/png": "[encoded data removed]",
      "text/plain": [
       "<matplotlib.figure.Figure at 0x7f0efb85b358>"
      ]
     },
     "metadata": {},
     "output_type": "display_data"
    }
   ],
   "source": [
    "Z = np.array( [0,0,0,0,0,0,0,0,0] )\n",
    "showMatrix(Z)"
   ]
  },
  {
   "cell_type": "code",
   "execution_count": 12,
   "metadata": {},
   "outputs": [
    {
     "data": {
      "image/png": "[encoded data removed]",
      "text/plain": [
       "<matplotlib.figure.Figure at 0x7f0efb889da0>"
      ]
     },
     "metadata": {},
     "output_type": "display_data"
    }
   ],
   "source": [
    "Z = np.array( [[0,0,0,0,0,0,0,0,0],\n",
    "               [0,0,0,0,0,0,0,0,0],\n",
    "               [0,0,0,0,0,0,0,0,0],\n",
    "               [0,0,0,0,0,0,0,0,0],\n",
    "               [0,0,0,0,0,0,0,0,0]] )\n",
    "showMatrix(Z)"
   ]
  },
  {
   "cell_type": "code",
   "execution_count": 13,
   "metadata": {},
   "outputs": [
    {
     "data": {
      "text/plain": [
       "array([0, 1, 2, 3, 4, 5, 6, 7, 8])"
      ]
     },
     "execution_count": 13,
     "metadata": {},
     "output_type": "execute_result"
    },
    {
     "data": {
      "image/png": "[encoded data removed]",
      "text/plain": [
       "<matplotlib.figure.Figure at 0x7f0efb83c0f0>"
      ]
     },
     "metadata": {},
     "output_type": "display_data"
    }
   ],
   "source": [
    "Z = np.arange(9)    # the numpy arange function also allows floating point arguments\n",
    "showMatrix(Z)\n",
    "Z"
   ]
  },
  {
   "cell_type": "markdown",
   "metadata": {},
   "source": [
    "(*see also:* [linspace](http://wiki.scipy.org/Numpy_Example_List#linspace))"
   ]
  },
  {
   "cell_type": "code",
   "execution_count": 14,
   "metadata": {},
   "outputs": [
    {
     "data": {
      "text/plain": [
       "array([[ 0,  1,  2,  3,  4,  5,  6,  7,  8],\n",
       "       [ 9, 10, 11, 12, 13, 14, 15, 16, 17],\n",
       "       [18, 19, 20, 21, 22, 23, 24, 25, 26],\n",
       "       [27, 28, 29, 30, 31, 32, 33, 34, 35],\n",
       "       [36, 37, 38, 39, 40, 41, 42, 43, 44]])"
      ]
     },
     "execution_count": 14,
     "metadata": {},
     "output_type": "execute_result"
    },
    {
     "data": {
      "image/png": "[encoded data removed]",
      "text/plain": [
       "<matplotlib.figure.Figure at 0x7f0efb78dda0>"
      ]
     },
     "metadata": {},
     "output_type": "display_data"
    }
   ],
   "source": [
    "Z = np.arange(5*9).reshape(5,9)\n",
    "showMatrix(Z)\n",
    "Z"
   ]
  },
  {
   "cell_type": "markdown",
   "metadata": {},
   "source": [
    "- Reshape must not change the number of elements within the array.\n",
    "- A vector of length ***n*** and a matrix of dimensions (1,***n***) ARE NOT THE SAME THING!"
   ]
  },
  {
   "cell_type": "code",
   "execution_count": 15,
   "metadata": {},
   "outputs": [
    {
     "data": {
      "text/plain": [
       "array([0.63483178, 0.7215916 , 0.32270822, 0.03753937, 0.20827107,\n",
       "       0.48935121, 0.71862324, 0.0425977 , 0.66820908])"
      ]
     },
     "execution_count": 15,
     "metadata": {},
     "output_type": "execute_result"
    },
    {
     "data": {
      "image/png": "[encoded data removed]",
      "text/plain": [
       "<matplotlib.figure.Figure at 0x7f0efb84b048>"
      ]
     },
     "metadata": {},
     "output_type": "display_data"
    }
   ],
   "source": [
    "Z = np.random.uniform(0,1,9)  # args: min, max, no. of elements\n",
    "showMatrix(Z)\n",
    "Z"
   ]
  },
  {
   "cell_type": "code",
   "execution_count": 16,
   "metadata": {},
   "outputs": [
    {
     "data": {
      "image/png": "[encoded data removed]",
      "text/plain": [
       "<matplotlib.figure.Figure at 0x7f0efb658cc0>"
      ]
     },
     "metadata": {},
     "output_type": "display_data"
    }
   ],
   "source": [
    "Z = np.random.uniform(0, 1, (5, 9))\n",
    "showMatrix(Z)"
   ]
  },
  {
   "cell_type": "markdown",
   "metadata": {},
   "source": [
    "(*see:* [Numpy array creation](http://www.labri.fr/perso/nrougier/teaching/numpy/numpy.html#creation) & [Numpy array reshaping](http://www.labri.fr/perso/nrougier/teaching/numpy/numpy.html#reshaping))"
   ]
  },
  {
   "cell_type": "markdown",
   "metadata": {},
   "source": [
    "## Array slicing"
   ]
  },
  {
   "cell_type": "code",
   "execution_count": 17,
   "metadata": {},
   "outputs": [
    {
     "data": {
      "text/plain": [
       "array([[0., 0., 0., 0., 0., 0., 0., 0., 0.],\n",
       "       [0., 1., 0., 0., 0., 0., 0., 0., 0.],\n",
       "       [0., 0., 0., 0., 0., 0., 0., 0., 0.],\n",
       "       [0., 0., 0., 0., 0., 0., 0., 0., 0.],\n",
       "       [0., 0., 0., 0., 0., 0., 0., 0., 0.]])"
      ]
     },
     "execution_count": 17,
     "metadata": {},
     "output_type": "execute_result"
    },
    {
     "data": {
      "image/png": "[encoded data removed]",
      "text/plain": [
       "<matplotlib.figure.Figure at 0x7f0efda5bb70>"
      ]
     },
     "metadata": {},
     "output_type": "display_data"
    }
   ],
   "source": [
    "# single element\n",
    "Z = np.zeros((5, 9))\n",
    "Z[1,1] = 1\n",
    "showMatrix(Z)\n",
    "Z"
   ]
  },
  {
   "cell_type": "code",
   "execution_count": 18,
   "metadata": {},
   "outputs": [
    {
     "data": {
      "text/plain": [
       "array([[0., 0., 0., 0., 0., 0., 0., 0., 0.],\n",
       "       [1., 1., 1., 1., 1., 1., 1., 1., 1.],\n",
       "       [0., 0., 0., 0., 0., 0., 0., 0., 0.],\n",
       "       [0., 0., 0., 0., 0., 0., 0., 0., 0.],\n",
       "       [0., 0., 0., 0., 0., 0., 0., 0., 0.]])"
      ]
     },
     "execution_count": 18,
     "metadata": {},
     "output_type": "execute_result"
    },
    {
     "data": {
      "image/png": "[encoded data removed]",
      "text/plain": [
       "<matplotlib.figure.Figure at 0x7f0efb5a2128>"
      ]
     },
     "metadata": {},
     "output_type": "display_data"
    }
   ],
   "source": [
    "# single row\n",
    "Z = np.zeros((5, 9))\n",
    "Z[1,:] = 1\n",
    "showMatrix(Z)\n",
    "Z"
   ]
  },
  {
   "cell_type": "code",
   "execution_count": 19,
   "metadata": {},
   "outputs": [
    {
     "data": {
      "text/plain": [
       "array([[0., 1., 0., 0., 0., 0., 0., 0., 0.],\n",
       "       [0., 1., 0., 0., 0., 0., 0., 0., 0.],\n",
       "       [0., 1., 0., 0., 0., 0., 0., 0., 0.],\n",
       "       [0., 1., 0., 0., 0., 0., 0., 0., 0.],\n",
       "       [0., 1., 0., 0., 0., 0., 0., 0., 0.]])"
      ]
     },
     "execution_count": 19,
     "metadata": {},
     "output_type": "execute_result"
    },
    {
     "data": {
      "image/png": "[encoded data removed]",
      "text/plain": [
       "<matplotlib.figure.Figure at 0x7f0efb5f5470>"
      ]
     },
     "metadata": {},
     "output_type": "display_data"
    }
   ],
   "source": [
    "# single column\n",
    "Z = np.zeros((5, 9))\n",
    "Z[:,1] = 1\n",
    "showMatrix(Z)\n",
    "Z"
   ]
  },
  {
   "cell_type": "code",
   "execution_count": 20,
   "metadata": {},
   "outputs": [
    {
     "data": {
      "text/plain": [
       "array([[0., 0., 0., 0., 0., 0., 0., 0., 0.],\n",
       "       [0., 0., 0., 0., 0., 0., 0., 0., 0.],\n",
       "       [0., 0., 1., 1., 1., 1., 0., 0., 0.],\n",
       "       [0., 0., 1., 1., 1., 1., 0., 0., 0.],\n",
       "       [0., 0., 0., 0., 0., 0., 0., 0., 0.]])"
      ]
     },
     "execution_count": 20,
     "metadata": {},
     "output_type": "execute_result"
    },
    {
     "data": {
      "image/png": "[encoded data removed]",
      "text/plain": [
       "<matplotlib.figure.Figure at 0x7f0efb70d5c0>"
      ]
     },
     "metadata": {},
     "output_type": "display_data"
    }
   ],
   "source": [
    "# specific area\n",
    "Z = np.zeros((5, 9))\n",
    "Z[2:4,2:6] = 1            # for each dimension format is always: <from:to:step> (with step being optional)\n",
    "showMatrix(Z)\n",
    "Z"
   ]
  },
  {
   "cell_type": "code",
   "execution_count": 21,
   "metadata": {},
   "outputs": [
    {
     "data": {
      "text/plain": [
       "array([[1., 0., 1., 0., 1., 0., 1., 0., 1.],\n",
       "       [1., 0., 1., 0., 1., 0., 1., 0., 1.],\n",
       "       [1., 0., 1., 0., 1., 0., 1., 0., 1.],\n",
       "       [1., 0., 1., 0., 1., 0., 1., 0., 1.],\n",
       "       [1., 0., 1., 0., 1., 0., 1., 0., 1.]])"
      ]
     },
     "execution_count": 21,
     "metadata": {},
     "output_type": "execute_result"
    },
    {
     "data": {
      "image/png": "[encoded data removed]",
      "text/plain": [
       "<matplotlib.figure.Figure at 0x7f0efb9d9550>"
      ]
     },
     "metadata": {},
     "output_type": "display_data"
    }
   ],
   "source": [
    "# every second column\n",
    "Z = np.zeros((5, 9))\n",
    "Z[:,::2] = 1              # for each dimension format is always: <from:to:step> (with step being optional)\n",
    "showMatrix(Z)\n",
    "Z"
   ]
  },
  {
   "cell_type": "code",
   "execution_count": 22,
   "metadata": {},
   "outputs": [
    {
     "name": "stdout",
     "output_type": "stream",
     "text": [
      ">>> Z[-1]:   9\n",
      ">>> Z[3:-3]: [3 4 5 6]\n",
      ">>> Z[::-1]: [9 8 7 6 5 4 3 2 1 0]\n"
     ]
    },
    {
     "data": {
      "text/plain": [
       "array([0, 1, 2, 3, 4, 5, 6, 7, 8, 9])"
      ]
     },
     "execution_count": 22,
     "metadata": {},
     "output_type": "execute_result"
    }
   ],
   "source": [
    "# indices can be negative\n",
    "Z = np.arange(10)\n",
    "print(\">>> Z[-1]:  \", Z[-1])       # start indexing at the back\n",
    "print(\">>> Z[3:-3]:\", Z[3:-3])     # slice of array center\n",
    "print(\">>> Z[::-1]:\", Z[::-1])     # quickly reverse an array\n",
    "Z"
   ]
  },
  {
   "cell_type": "markdown",
   "metadata": {},
   "source": [
    "(*see:* [Numpy array slicing](http://www.labri.fr/perso/nrougier/teaching/numpy/numpy.html#slicing))"
   ]
  },
  {
   "cell_type": "markdown",
   "metadata": {},
   "source": [
    "## Broadcasting\n",
    "\n",
    "Arithmetic operations applied to two Numpy arrays of different dimensions leads to 'broadcasting', i.e., filling up the missing values to allow the operation if possible. This includes:\n",
    "* Adding/subtracting/etc. a single value to a matrix.\n",
    "* Adding/subtracting/etc. a column/row vector to a matrix.\n",
    "* Adding/subtracting/etc. a column and a row vector.\n",
    "\n",
    "**NOTE:** Multiplying with \\* WILL ALSO BE APPLIED elementwise! Use **[np.dot()](http://docs.scipy.org/doc/numpy/reference/generated/numpy.dot.html)** for actual matrix multiplication!\n",
    "\n",
    "**FUN FACT:** Truth value checks will also applied elementwise.\n",
    "\n",
    "(*see:* [Numpy broadcasting](http://www.labri.fr/perso/nrougier/teaching/numpy/numpy.html#broadcasting))"
   ]
  },
  {
   "cell_type": "markdown",
   "metadata": {},
   "source": [
    "## Exercises\n",
    "1. Generate a 5x9 matrix of random integers between 0 and 10.\n",
    "2. Select a tile-pattern subset of the matrix like this:\n",
    "![Tile pattern](http://i.imgur.com/Cs7N10t.png)\n",
    "3. ..and like this:\n",
    "![Tile pattern](http://i.imgur.com/BnGdHle.png)\n",
    "4. ..and also like this:\n",
    "![Tile pattern](http://i.imgur.com/i3Lw1Zb.png)\n",
    "5. Adapt the code for No.3 so that it works with matrices of arbitrary dimensions (if it does not already).\n",
    "6. Write the code that perfoms the operation depicted below ([source](http://www.labri.fr/perso/nrougier/teaching/numpy/numpy.html#broadcasting)). Parameterize your code and use the above utility function to plot the final matrix in dimensions 8x2 and 256x64.\n",
    "![Broadcast op](http://i.imgur.com/M3kL9we.png)\n",
    "7. Make a copy of your random matrix.\n",
    "8. Find an expression that subtracts the column-mean from every row of any given matrix, the shorter the better (one-line is possible). Try the code with the copy of the random matrix.\n",
    "9. In your original random matrix: \n",
    "    1. Reverse the order of the rows of the matrix using a single slice.\n",
    "    2. Reverse the order of the columns of the matrix using a single slice.\n",
    "    3. Reverse the order of both the rows and the columns of the matrix using a single slice.\n",
    "    4. Try evaluation a standard Python conditional on your matrix. Describe the result in one sentence.\n",
    "    5. Find an expression that checks if ANY value is larger than 7 using numpy's \"any\"-function.\n",
    "    6. Find an expression that checks if ALL values are larger than 2 using numpy's \"all\"-function.\n",
    "    7. Use a conditional and boolean/mask indexing to index all even values of your matrix.  \n",
    "    8. Increment all of them by 1.\n",
    "10. Use numpy's \"linspace\" function to create a vector of 50 numbers between $-3\\pi$ and $3\\pi$ in evenly spaced increments.\n",
    "    1. Display it with the showMatrix function.\n",
    "    2. Apply a sine function to the vector and display the result.\n",
    "    3. Apply a square function to the (original) vector and display the result.\n",
    "    "
   ]
  },
  {
   "cell_type": "code",
   "execution_count": 23,
   "metadata": {},
   "outputs": [
    {
     "data": {
      "image/png": "[encoded data removed]",
      "text/plain": [
       "<matplotlib.figure.Figure at 0x7f0efb5bbf28>"
      ]
     },
     "metadata": {},
     "output_type": "display_data"
    }
   ],
   "source": [
    "#-#-# EXC_NUMPY: YOUR CODE HERE #-#-#\n",
    "#exercise-1\n",
    "Z=np.random.uniform(0,10,45).reshape(5,9)\n",
    "showMatrix(Z)\n"
   ]
  },
  {
   "cell_type": "markdown",
   "metadata": {},
   "source": [
    "## Links\n",
    "* [Quick reference (types, array handling)](http://www.labri.fr/perso/nrougier/teaching/numpy/numpy.html#quick-references)\n",
    "* [Tentative numpy tutorial](http://wiki.scipy.org/Tentative_NumPy_Tutorial)"
   ]
  },
  {
   "cell_type": "code",
   "execution_count": 24,
   "metadata": {},
   "outputs": [
    {
     "data": {
      "text/plain": [
       "array([[0., 0., 0., 0., 0., 0., 0., 0., 0.],\n",
       "       [0., 1., 0., 1., 0., 1., 0., 1., 0.],\n",
       "       [0., 0., 0., 0., 0., 0., 0., 0., 0.],\n",
       "       [0., 1., 0., 1., 0., 1., 0., 1., 0.],\n",
       "       [0., 0., 0., 0., 0., 0., 0., 0., 0.]])"
      ]
     },
     "execution_count": 24,
     "metadata": {},
     "output_type": "execute_result"
    },
    {
     "data": {
      "image/png": "[encoded data removed]",
      "text/plain": [
       "<matplotlib.figure.Figure at 0x7f0efb6e83c8>"
      ]
     },
     "metadata": {},
     "output_type": "display_data"
    }
   ],
   "source": [
    "#exercise-2\n",
    "#Z=np.random.uniform(0,10,45).reshape(5,9)\n",
    "Z=np.ones(5*9).reshape(5,9)\n",
    "Z[:,::2] = 0 \n",
    "Z[::2,:] = 0\n",
    "showMatrix(Z)\n",
    "Z"
   ]
  },
  {
   "cell_type": "code",
   "execution_count": 25,
   "metadata": {},
   "outputs": [
    {
     "data": {
      "text/plain": [
       "array([[0.        , 0.        , 0.        , 0.        , 0.        ,\n",
       "        0.        , 0.        , 0.        , 0.        ],\n",
       "       [0.        , 9.93173429, 0.        , 8.47212666, 0.        ,\n",
       "        0.        , 0.        , 0.        , 0.        ],\n",
       "       [0.        , 0.        , 0.        , 0.        , 0.        ,\n",
       "        0.        , 0.        , 0.        , 0.        ],\n",
       "       [0.        , 6.37834757, 0.        , 1.25642046, 0.        ,\n",
       "        0.        , 0.        , 0.        , 0.        ],\n",
       "       [0.        , 0.        , 0.        , 0.        , 0.        ,\n",
       "        0.        , 0.        , 0.        , 0.        ]])"
      ]
     },
     "execution_count": 25,
     "metadata": {},
     "output_type": "execute_result"
    },
    {
     "data": {
      "image/png": "[encoded data removed]",
      "text/plain": [
       "<matplotlib.figure.Figure at 0x7f0efb6c9588>"
      ]
     },
     "metadata": {},
     "output_type": "display_data"
    }
   ],
   "source": [
    "#exercise-3\n",
    "Z=np.random.uniform(0,10,45).reshape(5,9)\n",
    "#Z=np.ones(5*9).reshape(5,9)\n",
    "Z[:,:4:2] = 0\n",
    "Z[:,4:9] = 0\n",
    "Z[::2,:] = 0\n",
    "showMatrix(Z)\n",
    "Z"
   ]
  },
  {
   "cell_type": "code",
   "execution_count": 26,
   "metadata": {},
   "outputs": [
    {
     "data": {
      "image/png": "[encoded data removed]",
      "text/plain": [
       "<matplotlib.figure.Figure at 0x7f0efb861160>"
      ]
     },
     "metadata": {},
     "output_type": "display_data"
    }
   ],
   "source": [
    "#exercise-4,5\n",
    "Z=np.random.uniform(0,10,45).reshape(5,9)\n",
    "#Z=np.ones(5*9).reshape(5,9)\n",
    "Z[1:np.shape(Z)[0]-1,:]=0\n",
    "Z[:,1:np.shape(Z)[1]-1]=0\n",
    "showMatrix(Z)"
   ]
  },
  {
   "cell_type": "code",
   "execution_count": 40,
   "metadata": {},
   "outputs": [
    {
     "data": {
      "image/png": "[encoded data removed]",
      "text/plain": [
       "<matplotlib.figure.Figure at 0x7f0efb763518>"
      ]
     },
     "metadata": {},
     "output_type": "display_data"
    }
   ],
   "source": [
    "n=10\n",
    "A=np.arange(n*1).reshape(n,1)\n",
    "showMatrix(A)\n",
    "B=np.transpose(A)\n",
    "showMatrix(B)\n",
    "D=A+B\n",
    "# C=np.sum(D,axis=0)\n",
    "showMatrix(D)"
   ]
  },
  {
   "cell_type": "code",
   "execution_count": 28,
   "metadata": {},
   "outputs": [
    {
     "data": {
      "text/plain": [
       "array([[2.09315872, 0.38541786, 5.03752295, 6.9986143 , 2.84472045,\n",
       "        6.24451993, 8.1810399 , 9.86780978, 9.51870496],\n",
       "       [4.12623709, 4.62434051, 4.42431348, 7.07918161, 9.9581097 ,\n",
       "        8.46935354, 7.66508742, 2.25447295, 3.25357066],\n",
       "       [4.70266062, 7.80966753, 5.17798878, 3.04888837, 1.62696583,\n",
       "        2.04984894, 0.88869756, 6.83910077, 4.9790431 ],\n",
       "       [2.30479314, 9.75350987, 5.52143485, 6.34055633, 4.77808481,\n",
       "        4.68756671, 4.46391677, 5.87291413, 8.17593877],\n",
       "       [2.76714397, 5.10746984, 3.64116696, 4.93354146, 7.3429982 ,\n",
       "        1.49053733, 8.76249786, 2.61225194, 3.71290637]])"
      ]
     },
     "execution_count": 28,
     "metadata": {},
     "output_type": "execute_result"
    },
    {
     "data": {
      "image/png": "[encoded data removed]",
      "text/plain": [
       "<matplotlib.figure.Figure at 0x7f0efb6e8d30>"
      ]
     },
     "metadata": {},
     "output_type": "display_data"
    }
   ],
   "source": [
    "Y=np.random.uniform(0,10,45).reshape(5,9)\n",
    "showMatrix(Y)\n",
    "Y"
   ]
  },
  {
   "cell_type": "code",
   "execution_count": 29,
   "metadata": {},
   "outputs": [
    {
     "data": {
      "text/plain": [
       "array([3.19879871, 5.53608112, 4.7604854 , 5.68015641, 5.3101758 ,\n",
       "       4.58836529, 5.9922479 , 5.48930991, 5.92803277])"
      ]
     },
     "execution_count": 29,
     "metadata": {},
     "output_type": "execute_result"
    }
   ],
   "source": [
    "column_mean=np.mean(Y,axis=0)\n",
    "column_mean\n",
    "#column_mean.shape"
   ]
  },
  {
   "cell_type": "code",
   "execution_count": 30,
   "metadata": {},
   "outputs": [
    {
     "name": "stdout",
     "output_type": "stream",
     "text": [
      "[[-1.10563999 -5.15066327  0.27703755  1.31845789 -2.46545534  1.65615464\n",
      "   2.18879199  4.37849987  3.59067219]\n",
      " [ 0.92743838 -0.91174061 -0.33617193  1.3990252   4.6479339   3.88098825\n",
      "   1.67283952 -3.23483696 -2.67446211]\n",
      " [ 1.50386192  2.27358641  0.41750337 -2.63126805 -3.68320997 -2.53851635\n",
      "  -5.10355034  1.34979085 -0.94898967]\n",
      " [-0.89400557  4.21742875  0.76094945  0.66039992 -0.53209099  0.09920142\n",
      "  -1.52833113  0.38360422  2.24790599]\n",
      " [-0.43165473 -0.42861129 -1.11931844 -0.74661496  2.0328224  -3.09782796\n",
      "   2.77024996 -2.87705797 -2.21512641]]\n"
     ]
    }
   ],
   "source": [
    "column_mean_broadcasted= column_mean.reshape(1,9)\n",
    "#showMatrix(Y-column_mean_broadcasted)\n",
    "print(Y-column_mean_broadcasted)"
   ]
  },
  {
   "cell_type": "code",
   "execution_count": 31,
   "metadata": {},
   "outputs": [
    {
     "data": {
      "text/plain": [
       "array([[-1.10563999, -5.15066327,  0.27703755,  1.31845789, -2.46545534,\n",
       "         1.65615464,  2.18879199,  4.37849987,  3.59067219],\n",
       "       [ 0.92743838, -0.91174061, -0.33617193,  1.3990252 ,  4.6479339 ,\n",
       "         3.88098825,  1.67283952, -3.23483696, -2.67446211],\n",
       "       [ 1.50386192,  2.27358641,  0.41750337, -2.63126805, -3.68320997,\n",
       "        -2.53851635, -5.10355034,  1.34979085, -0.94898967],\n",
       "       [-0.89400557,  4.21742875,  0.76094945,  0.66039992, -0.53209099,\n",
       "         0.09920142, -1.52833113,  0.38360422,  2.24790599],\n",
       "       [-0.43165473, -0.42861129, -1.11931844, -0.74661496,  2.0328224 ,\n",
       "        -3.09782796,  2.77024996, -2.87705797, -2.21512641]])"
      ]
     },
     "execution_count": 31,
     "metadata": {},
     "output_type": "execute_result"
    }
   ],
   "source": [
    "#one line answer\n",
    "Y-np.mean(Y,axis=0).reshape(1,9)"
   ]
  },
  {
   "cell_type": "code",
   "execution_count": 32,
   "metadata": {},
   "outputs": [
    {
     "data": {
      "text/plain": [
       "array([[2.76714397, 5.10746984, 3.64116696, 4.93354146, 7.3429982 ,\n",
       "        1.49053733, 8.76249786, 2.61225194, 3.71290637],\n",
       "       [2.30479314, 9.75350987, 5.52143485, 6.34055633, 4.77808481,\n",
       "        4.68756671, 4.46391677, 5.87291413, 8.17593877],\n",
       "       [4.70266062, 7.80966753, 5.17798878, 3.04888837, 1.62696583,\n",
       "        2.04984894, 0.88869756, 6.83910077, 4.9790431 ],\n",
       "       [4.12623709, 4.62434051, 4.42431348, 7.07918161, 9.9581097 ,\n",
       "        8.46935354, 7.66508742, 2.25447295, 3.25357066],\n",
       "       [2.09315872, 0.38541786, 5.03752295, 6.9986143 , 2.84472045,\n",
       "        6.24451993, 8.1810399 , 9.86780978, 9.51870496]])"
      ]
     },
     "execution_count": 32,
     "metadata": {},
     "output_type": "execute_result"
    }
   ],
   "source": [
    "#exercise - 9\n",
    "#in your original random matrix: \n",
    "#Reverse the order of the rows of the matrix using a single slice.\n",
    "Y[ ::-1,:]"
   ]
  },
  {
   "cell_type": "code",
   "execution_count": 33,
   "metadata": {},
   "outputs": [
    {
     "data": {
      "text/plain": [
       "array([[9.51870496, 9.86780978, 8.1810399 , 6.24451993, 2.84472045,\n",
       "        6.9986143 , 5.03752295, 0.38541786, 2.09315872],\n",
       "       [3.25357066, 2.25447295, 7.66508742, 8.46935354, 9.9581097 ,\n",
       "        7.07918161, 4.42431348, 4.62434051, 4.12623709],\n",
       "       [4.9790431 , 6.83910077, 0.88869756, 2.04984894, 1.62696583,\n",
       "        3.04888837, 5.17798878, 7.80966753, 4.70266062],\n",
       "       [8.17593877, 5.87291413, 4.46391677, 4.68756671, 4.77808481,\n",
       "        6.34055633, 5.52143485, 9.75350987, 2.30479314],\n",
       "       [3.71290637, 2.61225194, 8.76249786, 1.49053733, 7.3429982 ,\n",
       "        4.93354146, 3.64116696, 5.10746984, 2.76714397]])"
      ]
     },
     "execution_count": 33,
     "metadata": {},
     "output_type": "execute_result"
    }
   ],
   "source": [
    "#in your original random matrix: \n",
    "#Reverse the order of the columns of the matrix using a single slice.\n",
    "Y[ :,::-1]"
   ]
  },
  {
   "cell_type": "code",
   "execution_count": 34,
   "metadata": {},
   "outputs": [
    {
     "data": {
      "text/plain": [
       "array([[3.71290637, 2.61225194, 8.76249786, 1.49053733, 7.3429982 ,\n",
       "        4.93354146, 3.64116696, 5.10746984, 2.76714397],\n",
       "       [8.17593877, 5.87291413, 4.46391677, 4.68756671, 4.77808481,\n",
       "        6.34055633, 5.52143485, 9.75350987, 2.30479314],\n",
       "       [4.9790431 , 6.83910077, 0.88869756, 2.04984894, 1.62696583,\n",
       "        3.04888837, 5.17798878, 7.80966753, 4.70266062],\n",
       "       [3.25357066, 2.25447295, 7.66508742, 8.46935354, 9.9581097 ,\n",
       "        7.07918161, 4.42431348, 4.62434051, 4.12623709],\n",
       "       [9.51870496, 9.86780978, 8.1810399 , 6.24451993, 2.84472045,\n",
       "        6.9986143 , 5.03752295, 0.38541786, 2.09315872]])"
      ]
     },
     "execution_count": 34,
     "metadata": {},
     "output_type": "execute_result"
    }
   ],
   "source": [
    "Y[ ::-1,::-1]"
   ]
  },
  {
   "cell_type": "code",
   "execution_count": 35,
   "metadata": {},
   "outputs": [
    {
     "data": {
      "text/plain": [
       "True"
      ]
     },
     "execution_count": 35,
     "metadata": {},
     "output_type": "execute_result"
    }
   ],
   "source": [
    "np.any(Y>7)"
   ]
  },
  {
   "cell_type": "code",
   "execution_count": 36,
   "metadata": {},
   "outputs": [
    {
     "data": {
      "text/plain": [
       "False"
      ]
     },
     "execution_count": 36,
     "metadata": {},
     "output_type": "execute_result"
    }
   ],
   "source": [
    "np.all(Y>2)"
   ]
  },
  {
   "cell_type": "code",
   "execution_count": 37,
   "metadata": {},
   "outputs": [
    {
     "data": {
      "text/plain": [
       "array([ 0,  2,  4,  6,  8, 10])"
      ]
     },
     "execution_count": 37,
     "metadata": {},
     "output_type": "execute_result"
    }
   ],
   "source": [
    "#Use a conditional and boolean/mask indexing to index all even values of your matrix.\n",
    "E=np.arange(12).reshape(4,3)\n",
    "E_even=E[E%2==0]\n",
    "E_even"
   ]
  },
  {
   "cell_type": "markdown",
   "metadata": {},
   "source": [
    "Use numpy's \"linspace\" function to create a vector of 50 numbers between −3π−3π and 3π3π in evenly spaced increments.\n",
    "\n",
    "    Display it with the showMatrix function.\n",
    "    Apply a sine function to the vector and display the result.\n",
    "    Apply a square function to the (original) vector and display the result"
   ]
  },
  {
   "cell_type": "code",
   "execution_count": 38,
   "metadata": {},
   "outputs": [
    {
     "data": {
      "text/plain": [
       "[<matplotlib.lines.Line2D at 0x7f0efb8bada0>]"
      ]
     },
     "execution_count": 38,
     "metadata": {},
     "output_type": "execute_result"
    },
    {
     "data": {
      "image/png": "[encoded data removed]",
      "text/plain": [
       "<matplotlib.figure.Figure at 0x7f0efb95eb38>"
      ]
     },
     "metadata": {},
     "output_type": "display_data"
    }
   ],
   "source": [
    "u=np.linspace(-3*np.pi,3*np.pi,50)\n",
    "plt.plot(np.sin(u))\n"
   ]
  },
  {
   "cell_type": "code",
   "execution_count": 39,
   "metadata": {},
   "outputs": [
    {
     "data": {
      "text/plain": [
       "[<matplotlib.lines.Line2D at 0x7f0efb981048>]"
      ]
     },
     "execution_count": 39,
     "metadata": {},
     "output_type": "execute_result"
    },
    {
     "data": {
      "image/png": "[encoded data removed]",
      "text/plain": [
       "<matplotlib.figure.Figure at 0x7f0efb914240>"
      ]
     },
     "metadata": {},
     "output_type": "display_data"
    }
   ],
   "source": [
    "plt.plot( np.sin(np.square(u)) )"
   ]
  },
  {
   "cell_type": "code",
   "execution_count": null,
   "metadata": {},
   "outputs": [],
   "source": []
  }
 ],
 "metadata": {
  "kernelspec": {
   "display_name": "Python 3",
   "language": "python",
   "name": "python3"
  },
  "language_info": {
   "codemirror_mode": {
    "name": "ipython",
    "version": 3
   },
   "file_extension": ".py",
   "mimetype": "text/x-python",
   "name": "python",
   "nbconvert_exporter": "python",
   "pygments_lexer": "ipython3",
   "version": "3.6.5"
  }
 },
 "nbformat": 4,
 "nbformat_minor": 1
}
